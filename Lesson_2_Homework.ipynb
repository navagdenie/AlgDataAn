{
 "cells": [
  {
   "cell_type": "markdown",
   "metadata": {},
   "source": [
    "### Урок 2. Масштабирование признаков. Регуляризация. Стохастический градиентный спуск."
   ]
  },
  {
   "cell_type": "markdown",
   "metadata": {},
   "source": [
    "#### Постройте график зависимости весов всех признаков от lambda в L2-регуляризации (на данных из урока)."
   ]
  },
  {
   "cell_type": "code",
   "execution_count": 1,
   "metadata": {},
   "outputs": [],
   "source": [
    "import numpy as np\n",
    "import matplotlib.pyplot as plt"
   ]
  },
  {
   "cell_type": "code",
   "execution_count": 2,
   "metadata": {},
   "outputs": [],
   "source": [
    "X = np.array([[1, 1, 1, 1, 1, 1, 1, 1, 1, 1],\n",
    "              [1, 1, 2, 5, 3, 0, 5, 10, 1, 2],\n",
    "              [500, 700, 750, 600, 1450, 800, 1500, 2000, 450, 1000],\n",
    "              [1, 1, 2, 1, 2, 1, 3, 3, 1, 2]])"
   ]
  },
  {
   "cell_type": "code",
   "execution_count": 3,
   "metadata": {},
   "outputs": [],
   "source": [
    "y = [45, 55, 50, 55, 60, 35, 75, 80, 50, 60]"
   ]
  },
  {
   "cell_type": "code",
   "execution_count": 4,
   "metadata": {},
   "outputs": [],
   "source": [
    "X_st = X.copy().astype(np.float64)"
   ]
  },
  {
   "cell_type": "code",
   "execution_count": 5,
   "metadata": {},
   "outputs": [],
   "source": [
    "def calc_std_fit(x):\n",
    "    res = (x - x.mean()) / x.std()\n",
    "    return res"
   ]
  },
  {
   "cell_type": "code",
   "execution_count": 6,
   "metadata": {},
   "outputs": [],
   "source": [
    "for i in range(1, X.shape[0]):\n",
    "    X_st[i] = calc_std_fit(X[i])"
   ]
  },
  {
   "cell_type": "code",
   "execution_count": 7,
   "metadata": {},
   "outputs": [],
   "source": [
    "def calc_mse(y, y_pred):\n",
    "    err = np.mean((y - y_pred)**2)\n",
    "    return err"
   ]
  },
  {
   "cell_type": "code",
   "execution_count": 8,
   "metadata": {},
   "outputs": [],
   "source": [
    "def eval_model_reg2(X, y, iterations, alpha=1e-4, lambda_=1e-8):\n",
    "    np.random.seed(42)\n",
    "    W = np.random.randn(X.shape[0])\n",
    "    n = X.shape[1]\n",
    "    for i in range(1, iterations+1):\n",
    "        y_pred = np.dot(W, X)\n",
    "        err = calc_mse(y, y_pred)\n",
    "        W -= alpha * (1/n * 2 * np.dot((y_pred - y), X.T) + lambda_ * W) \n",
    "    return W"
   ]
  },
  {
   "cell_type": "code",
   "execution_count": 9,
   "metadata": {},
   "outputs": [],
   "source": [
    "l_W = []\n",
    "l_lambda = np.linspace(1e-8, 1e+2, 100)\n",
    "for i in range(len(l_lambda)):\n",
    "    W = eval_model_reg2(X_st, y, iterations=1000, alpha=1e-2, lambda_=l_lambda[i])\n",
    "    l_W.append(W)"
   ]
  },
  {
   "cell_type": "code",
   "execution_count": 10,
   "metadata": {},
   "outputs": [
    {
     "data": {
      "text/plain": [
       "array([1.00000000e-08, 1.01010102e+00, 2.02020203e+00, 3.03030304e+00,\n",
       "       4.04040405e+00, 5.05050506e+00, 6.06060607e+00, 7.07070708e+00,\n",
       "       8.08080809e+00, 9.09090910e+00, 1.01010101e+01, 1.11111111e+01,\n",
       "       1.21212121e+01, 1.31313131e+01, 1.41414142e+01, 1.51515152e+01,\n",
       "       1.61616162e+01, 1.71717172e+01, 1.81818182e+01, 1.91919192e+01,\n",
       "       2.02020202e+01, 2.12121212e+01, 2.22222222e+01, 2.32323232e+01,\n",
       "       2.42424243e+01, 2.52525253e+01, 2.62626263e+01, 2.72727273e+01,\n",
       "       2.82828283e+01, 2.92929293e+01, 3.03030303e+01, 3.13131313e+01,\n",
       "       3.23232323e+01, 3.33333333e+01, 3.43434344e+01, 3.53535354e+01,\n",
       "       3.63636364e+01, 3.73737374e+01, 3.83838384e+01, 3.93939394e+01,\n",
       "       4.04040404e+01, 4.14141414e+01, 4.24242424e+01, 4.34343434e+01,\n",
       "       4.44444445e+01, 4.54545455e+01, 4.64646465e+01, 4.74747475e+01,\n",
       "       4.84848485e+01, 4.94949495e+01, 5.05050505e+01, 5.15151515e+01,\n",
       "       5.25252525e+01, 5.35353535e+01, 5.45454546e+01, 5.55555556e+01,\n",
       "       5.65656566e+01, 5.75757576e+01, 5.85858586e+01, 5.95959596e+01,\n",
       "       6.06060606e+01, 6.16161616e+01, 6.26262626e+01, 6.36363636e+01,\n",
       "       6.46464646e+01, 6.56565657e+01, 6.66666667e+01, 6.76767677e+01,\n",
       "       6.86868687e+01, 6.96969697e+01, 7.07070707e+01, 7.17171717e+01,\n",
       "       7.27272727e+01, 7.37373737e+01, 7.47474747e+01, 7.57575758e+01,\n",
       "       7.67676768e+01, 7.77777778e+01, 7.87878788e+01, 7.97979798e+01,\n",
       "       8.08080808e+01, 8.18181818e+01, 8.28282828e+01, 8.38383838e+01,\n",
       "       8.48484849e+01, 8.58585859e+01, 8.68686869e+01, 8.78787879e+01,\n",
       "       8.88888889e+01, 8.98989899e+01, 9.09090909e+01, 9.19191919e+01,\n",
       "       9.29292929e+01, 9.39393939e+01, 9.49494950e+01, 9.59595960e+01,\n",
       "       9.69696970e+01, 9.79797980e+01, 9.89898990e+01, 1.00000000e+02])"
      ]
     },
     "execution_count": 10,
     "metadata": {},
     "output_type": "execute_result"
    }
   ],
   "source": [
    "l_lambda"
   ]
  },
  {
   "cell_type": "code",
   "execution_count": 11,
   "metadata": {},
   "outputs": [
    {
     "data": {
      "text/plain": [
       "[array([56.49999962,  6.19560095,  0.13438971,  6.17194872]),\n",
       " array([37.54026833,  4.00133664,  2.67439468,  3.67939101]),\n",
       " array([28.10804013,  3.25880018,  2.56091482,  3.0727851 ]),\n",
       " array([22.46385538,  2.79061819,  2.33508029,  2.67059956]),\n",
       " array([18.70735783,  2.45184396,  2.12174698,  2.36820175]),\n",
       " array([16.02722061,  2.19089694,  1.93614693,  2.12944993]),\n",
       " array([14.01879698,  1.98218327,  1.77704487,  1.93528965]),\n",
       " array([12.45768373,  1.81081428,  1.64046815,  1.77398225]),\n",
       " array([11.20941883,  1.66729614,  1.52250453,  1.63770804]),\n",
       " array([10.18852458,  1.54519989,  1.41985622,  1.52099699])]"
      ]
     },
     "execution_count": 11,
     "metadata": {},
     "output_type": "execute_result"
    }
   ],
   "source": [
    "l_W[:10]"
   ]
  },
  {
   "cell_type": "code",
   "execution_count": 12,
   "metadata": {},
   "outputs": [
    {
     "data": {
      "image/png": "[encoded data removed]",
      "text/plain": [
       "<Figure size 432x288 with 1 Axes>"
      ]
     },
     "metadata": {
      "needs_background": "light"
     },
     "output_type": "display_data"
    }
   ],
   "source": [
    "plt.plot(l_lambda, l_W)\n",
    "plt.show()"
   ]
  },
  {
   "cell_type": "markdown",
   "metadata": {},
   "source": [
    "#### Можно ли к одному и тому же признаку применить сразу и нормализацию, и стандартизацию?"
   ]
  },
  {
   "cell_type": "markdown",
   "metadata": {},
   "source": [
    "Мы можем применить сначала стандартизацию, а потом нормализацию. Так как стандартизация заключается в своего рода отклонении каждого признака от среднего, соответсвенно оно может быть досаточно большим по модулю, дальше мы можем нормализовать эти отклонения по шкале от 0 до 1. \n",
    "Фактически мы можем применть и в обратном порядке - сначала нормализовать, а потом стандартизировать. Но не совсем понятно какой в этом смысл."
   ]
  },
  {
   "cell_type": "markdown",
   "metadata": {},
   "source": [
    "#### Напишите функцию наподобие eval_model_reg2, но для применения L1-регуляризации."
   ]
  },
  {
   "cell_type": "code",
   "execution_count": 13,
   "metadata": {},
   "outputs": [],
   "source": [
    "def eval_model_reg1(X, y, iterations, alpha=1e-4, lambda_=1e-8):\n",
    "    np.random.seed(42)\n",
    "    W = np.random.randn(X.shape[0])\n",
    "    n = X.shape[1]\n",
    "    for i in range(1, iterations+1):\n",
    "        y_pred = np.dot(W, X)\n",
    "        err = calc_mse(y, y_pred)\n",
    "        W -= alpha * (1/n * 2 * np.dot((y_pred - y), X.T) + lambda_ * np.sign(W)) \n",
    "    return W"
   ]
  },
  {
   "cell_type": "code",
   "execution_count": 14,
   "metadata": {},
   "outputs": [],
   "source": [
    "l_W = []\n",
    "l_lambda = np.linspace(1e-8, 1e+2, 100)\n",
    "for i in range(len(l_lambda)):\n",
    "    W = eval_model_reg1(X_st, y, iterations=1000, alpha=1e-2, lambda_=l_lambda[i])\n",
    "    l_W.append(W)"
   ]
  },
  {
   "cell_type": "code",
   "execution_count": 15,
   "metadata": {},
   "outputs": [
    {
     "data": {
      "text/plain": [
       "[array([56.4999999 ,  6.195601  ,  0.13438958,  6.17194881]),\n",
       " array([5.59949494e+01, 5.93085003e+00, 3.46906405e-02, 5.94851085e+00]),\n",
       " array([5.54898989e+01, 5.64181811e+00, 1.75378640e-02, 5.69461359e+00]),\n",
       " array([5.49848484e+01, 5.33753406e+00, 1.77124357e-03, 5.41069998e+00]),\n",
       " array([5.44797979e+01, 5.03185291e+00, 2.66120430e-02, 5.11643195e+00]),\n",
       " array([5.39747474e+01, 4.73466886e+00, 9.11945918e-03, 4.82662530e+00]),\n",
       " array([5.34696969e+01, 4.43810646e+00, 3.18948195e-03, 4.53430397e+00]),\n",
       " array([5.29646464e+01, 4.14052552e+00, 7.57363271e-03, 4.23850708e+00]),\n",
       " array([5.24595959e+01, 3.84016262e+00, 2.48863199e-02, 3.93826664e+00]),\n",
       " array([51.95454536,  3.53880175,  0.05571554,  3.63581989])]"
      ]
     },
     "execution_count": 15,
     "metadata": {},
     "output_type": "execute_result"
    }
   ],
   "source": [
    "l_W[:10]"
   ]
  },
  {
   "cell_type": "code",
   "execution_count": null,
   "metadata": {},
   "outputs": [],
   "source": []
  }
 ],
 "metadata": {
  "kernelspec": {
   "display_name": "Python 3",
   "language": "python",
   "name": "python3"
  },
  "language_info": {
   "codemirror_mode": {
    "name": "ipython",
    "version": 3
   },
   "file_extension": ".py",
   "mimetype": "text/x-python",
   "name": "python",
   "nbconvert_exporter": "python",
   "pygments_lexer": "ipython3",
   "version": "3.7.3"
  }
 },
 "nbformat": 4,
 "nbformat_minor": 2
}
