{
 "cells": [
  {
   "cell_type": "markdown",
   "metadata": {},
   "source": [
    "# Урок 1. Алгоритм линейной регрессии. Градиентный спуск"
   ]
  },
  {
   "cell_type": "code",
   "execution_count": 1,
   "metadata": {},
   "outputs": [],
   "source": [
    "import numpy as np"
   ]
  },
  {
   "cell_type": "code",
   "execution_count": 2,
   "metadata": {},
   "outputs": [
    {
     "data": {
      "text/plain": [
       "array([[ 1,  1,  1,  1,  1,  1,  1,  1,  1,  1],\n",
       "       [ 1,  1,  2,  5,  3,  0,  5, 10,  1,  2]])"
      ]
     },
     "execution_count": 2,
     "metadata": {},
     "output_type": "execute_result"
    }
   ],
   "source": [
    "X = np.array([[1, 1, 1, 1, 1, 1, 1, 1, 1, 1],\n",
    "              [1, 1, 2, 5, 3, 0, 5, 10, 1, 2]])\n",
    "X"
   ]
  },
  {
   "cell_type": "code",
   "execution_count": 3,
   "metadata": {},
   "outputs": [],
   "source": [
    "y = [45, 55, 50, 55, 60, 35, 75, 80, 50, 60]"
   ]
  },
  {
   "cell_type": "code",
   "execution_count": 4,
   "metadata": {},
   "outputs": [],
   "source": [
    "def calc_mse(y, y_pred):\n",
    "    err = np.mean((y - y_pred)**2) # <=> 1/n * np.sum((y_pred - y)**2)\n",
    "    return err"
   ]
  },
  {
   "cell_type": "markdown",
   "metadata": {},
   "source": [
    "### Подберите скорость обучения (alpha) и количество итераций"
   ]
  },
  {
   "cell_type": "code",
   "execution_count": 5,
   "metadata": {},
   "outputs": [
    {
     "name": "stdout",
     "output_type": "stream",
     "text": [
      "Number of objects = 10        \n",
      "Learning rate = 0.01        \n",
      "Initial weights = [1.  0.5] \n",
      "\n",
      "Iteration #0: W_new = [2.08 4.27], MSE = 3047.75\n",
      "Iteration #100: W_new = [18.66342341  8.59956548], MSE = 375.22\n",
      "Iteration #200: W_new = [27.56341247  6.98568972], MSE = 189.39\n",
      "Iteration #300: W_new = [32.97445068  6.00448137], MSE = 113.3\n",
      "Iteration #400: W_new = [36.39665158  5.383918  ], MSE = 79.57\n",
      "Iteration #500: W_new = [38.63915357  4.97727484], MSE = 63.52\n",
      "Iteration #600: W_new = [40.15623052  4.70217632], MSE = 55.37\n",
      "Iteration #700: W_new = [41.2123984   4.51065656], MSE = 50.98\n",
      "Iteration #800: W_new = [41.966889    4.37384133], MSE = 48.5\n",
      "Iteration #900: W_new = [42.5185121   4.27381298], MSE = 47.03\n",
      "Iteration #1000: W_new = [42.93031106  4.19913959], MSE = 46.12\n",
      "Iteration #1100: W_new = [43.24354669  4.14233914], MSE = 45.53\n",
      "Iteration #1200: W_new = [43.48586222  4.09839895], MSE = 45.14\n",
      "Iteration #1300: W_new = [43.67617992  4.06388777], MSE = 44.88\n",
      "Iteration #1400: W_new = [43.82771145  4.03640986], MSE = 44.69\n",
      "Iteration #1500: W_new = [43.94985132  4.01426168], MSE = 44.55\n",
      "Iteration #1600: W_new = [44.04939349  3.99621124], MSE = 44.45\n",
      "Iteration #1700: W_new = [44.13132873  3.98135355], MSE = 44.38\n",
      "Iteration #1800: W_new = [44.1993767  3.9690141], MSE = 44.32\n",
      "Iteration #1900: W_new = [44.25634735  3.95868335], MSE = 44.28\n",
      "Iteration #2000: W_new = [44.30439016  3.94997153], MSE = 44.24\n",
      "Iteration #2100: W_new = [44.34516871  3.94257697], MSE = 44.21\n",
      "Iteration #2200: W_new = [44.37998462  3.93626364], MSE = 44.19\n",
      "Iteration #2300: W_new = [44.40986675  3.93084498], MSE = 44.17\n",
      "Iteration #2400: W_new = [44.43563612  3.9261721 ], MSE = 44.15\n",
      "Iteration #2500: W_new = [44.45795375  3.92212514], MSE = 44.14\n",
      "Iteration #2600: W_new = [44.4773563   3.91860679], MSE = 44.13\n",
      "Iteration #2700: W_new = [44.49428287  3.91553742], MSE = 44.12\n",
      "Iteration #2800: W_new = [44.50909536  3.9128514 ], MSE = 44.11\n",
      "Iteration #2900: W_new = [44.5220941   3.91049428], MSE = 44.11\n",
      "Iteration #3000: W_new = [44.53352991  3.90842057], MSE = 44.1\n",
      "Iteration #3100: W_new = [44.5436135   3.90659207], MSE = 44.1\n",
      "Iteration #3200: W_new = [44.55252289  3.90497649], MSE = 44.09\n",
      "Iteration #3300: W_new = [44.56040925  3.90354642], MSE = 44.09\n",
      "Iteration #3400: W_new = [44.56740157  3.90227847], MSE = 44.08\n",
      "Iteration #3500: W_new = [44.5736104   3.90115259], MSE = 44.08\n",
      "Iteration #3600: W_new = [44.57913091  3.90015153], MSE = 44.08\n",
      "Iteration #3700: W_new = [44.5840453   3.89926038], MSE = 44.08\n",
      "Iteration #3800: W_new = [44.58842485  3.89846622], MSE = 44.07\n",
      "Iteration #3900: W_new = [44.59233157  3.8977578 ], MSE = 44.07\n",
      "Iteration #4000: W_new = [44.59581956  3.8971253 ], MSE = 44.07\n",
      "Iteration #4100: W_new = [44.59893615  3.89656016], MSE = 44.07\n",
      "Iteration #4200: W_new = [44.60172286  3.89605483], MSE = 44.07\n",
      "Iteration #4300: W_new = [44.6042162  3.8956027], MSE = 44.07\n",
      "Iteration #4400: W_new = [44.60644833  3.89519794], MSE = 44.07\n",
      "Iteration #4500: W_new = [44.60844766  3.89483539], MSE = 44.07\n",
      "Iteration #4600: W_new = [44.61023928  3.89451051], MSE = 44.07\n",
      "Iteration #4700: W_new = [44.61184547  3.89421925], MSE = 44.06\n",
      "Iteration #4800: W_new = [44.61328594  3.89395804], MSE = 44.06\n",
      "Iteration #4900: W_new = [44.61457823  3.89372371], MSE = 44.06\n"
     ]
    }
   ],
   "source": [
    "n = X.shape[1]\n",
    "alpha = 1e-2\n",
    "W = np.array([1, 0.5])\n",
    "print(f'Number of objects = {n} \\\n",
    "       \\nLearning rate = {alpha} \\\n",
    "       \\nInitial weights = {W} \\n')\n",
    "\n",
    "for i in range(5000): #в принципе можно сократить до 500, оставила 1000 только чтобы былов видно что дальше MSE не уменьшается\n",
    "    y_pred = np.dot(W, X)\n",
    "    err = calc_mse(y, y_pred)\n",
    "    for k in range(W.shape[0]):\n",
    "        W[k] -= alpha * (1/n * 2 * np.sum(X[k] * (y_pred - y)))\n",
    "    if i % 100 == 0:\n",
    "        alpha /= 1.111275 if i!=0 else 2\n",
    "        print(f'Iteration #{i}: W_new = {W}, MSE = {round(err,2)}')"
   ]
  },
  {
   "cell_type": "markdown",
   "metadata": {},
   "source": [
    "### *2. В этом коде мы избавляемся от итераций по весам, но тут есть ошибка, исправьте ее"
   ]
  },
  {
   "cell_type": "code",
   "execution_count": 6,
   "metadata": {},
   "outputs": [
    {
     "name": "stdout",
     "output_type": "stream",
     "text": [
      "Number of objects = 10        \n",
      "Learning rate = 0.01        \n",
      "Initial weights = [1.  0.5] \n",
      "\n",
      "Iteration #0: W_new = [2.08 4.27], MSE = 3047.75\n",
      "Iteration #100: W_new = [18.66342341  8.59956548], MSE = 375.22\n",
      "Iteration #200: W_new = [27.56341247  6.98568972], MSE = 189.39\n",
      "Iteration #300: W_new = [32.97445068  6.00448137], MSE = 113.3\n",
      "Iteration #400: W_new = [36.39665158  5.383918  ], MSE = 79.57\n",
      "Iteration #500: W_new = [38.63915357  4.97727484], MSE = 63.52\n",
      "Iteration #600: W_new = [40.15623052  4.70217632], MSE = 55.37\n",
      "Iteration #700: W_new = [41.2123984   4.51065656], MSE = 50.98\n",
      "Iteration #800: W_new = [41.966889    4.37384133], MSE = 48.5\n",
      "Iteration #900: W_new = [42.5185121   4.27381298], MSE = 47.03\n",
      "Iteration #1000: W_new = [42.93031106  4.19913959], MSE = 46.12\n",
      "Iteration #1100: W_new = [43.24354669  4.14233914], MSE = 45.53\n",
      "Iteration #1200: W_new = [43.48586222  4.09839895], MSE = 45.14\n",
      "Iteration #1300: W_new = [43.67617992  4.06388777], MSE = 44.88\n",
      "Iteration #1400: W_new = [43.82771145  4.03640986], MSE = 44.69\n",
      "Iteration #1500: W_new = [43.94985132  4.01426168], MSE = 44.55\n",
      "Iteration #1600: W_new = [44.04939349  3.99621124], MSE = 44.45\n",
      "Iteration #1700: W_new = [44.13132873  3.98135355], MSE = 44.38\n",
      "Iteration #1800: W_new = [44.1993767  3.9690141], MSE = 44.32\n",
      "Iteration #1900: W_new = [44.25634735  3.95868335], MSE = 44.28\n",
      "Iteration #2000: W_new = [44.30439016  3.94997153], MSE = 44.24\n",
      "Iteration #2100: W_new = [44.34516871  3.94257697], MSE = 44.21\n",
      "Iteration #2200: W_new = [44.37998462  3.93626364], MSE = 44.19\n",
      "Iteration #2300: W_new = [44.40986675  3.93084498], MSE = 44.17\n",
      "Iteration #2400: W_new = [44.43563612  3.9261721 ], MSE = 44.15\n",
      "Iteration #2500: W_new = [44.45795375  3.92212514], MSE = 44.14\n",
      "Iteration #2600: W_new = [44.4773563   3.91860679], MSE = 44.13\n",
      "Iteration #2700: W_new = [44.49428287  3.91553742], MSE = 44.12\n",
      "Iteration #2800: W_new = [44.50909536  3.9128514 ], MSE = 44.11\n",
      "Iteration #2900: W_new = [44.5220941   3.91049428], MSE = 44.11\n",
      "Iteration #3000: W_new = [44.53352991  3.90842057], MSE = 44.1\n",
      "Iteration #3100: W_new = [44.5436135   3.90659207], MSE = 44.1\n",
      "Iteration #3200: W_new = [44.55252289  3.90497649], MSE = 44.09\n",
      "Iteration #3300: W_new = [44.56040925  3.90354642], MSE = 44.09\n",
      "Iteration #3400: W_new = [44.56740157  3.90227847], MSE = 44.08\n",
      "Iteration #3500: W_new = [44.5736104   3.90115259], MSE = 44.08\n",
      "Iteration #3600: W_new = [44.57913091  3.90015153], MSE = 44.08\n",
      "Iteration #3700: W_new = [44.5840453   3.89926038], MSE = 44.08\n",
      "Iteration #3800: W_new = [44.58842485  3.89846622], MSE = 44.07\n",
      "Iteration #3900: W_new = [44.59233157  3.8977578 ], MSE = 44.07\n",
      "Iteration #4000: W_new = [44.59581956  3.8971253 ], MSE = 44.07\n",
      "Iteration #4100: W_new = [44.59893615  3.89656016], MSE = 44.07\n",
      "Iteration #4200: W_new = [44.60172286  3.89605483], MSE = 44.07\n",
      "Iteration #4300: W_new = [44.6042162  3.8956027], MSE = 44.07\n",
      "Iteration #4400: W_new = [44.60644833  3.89519794], MSE = 44.07\n",
      "Iteration #4500: W_new = [44.60844766  3.89483539], MSE = 44.07\n",
      "Iteration #4600: W_new = [44.61023928  3.89451051], MSE = 44.07\n",
      "Iteration #4700: W_new = [44.61184547  3.89421925], MSE = 44.06\n",
      "Iteration #4800: W_new = [44.61328594  3.89395804], MSE = 44.06\n",
      "Iteration #4900: W_new = [44.61457823  3.89372371], MSE = 44.06\n"
     ]
    }
   ],
   "source": [
    "X_ = X.T\n",
    "n = X_.T.shape[1]\n",
    "alpha = 1e-2\n",
    "W = np.array([1, 0.5])\n",
    "print(f'Number of objects = {n} \\\n",
    "       \\nLearning rate = {alpha} \\\n",
    "       \\nInitial weights = {W} \\n')\n",
    "\n",
    "for i in range(5000):\n",
    "    y_pred = np.dot(X_, W)\n",
    "    err = calc_mse(y, y_pred)\n",
    "    W_pred = W - alpha * 1/n * 2 * np.dot(X_.T, (y_pred - y))\n",
    "    W = W_pred\n",
    "    if i % 100 == 0:\n",
    "        alpha /= 1.111275 if i!=0 else 2\n",
    "        print(f'Iteration #{i}: W_new = {W}, MSE = {round(err,2)}')"
   ]
  },
  {
   "cell_type": "code",
   "execution_count": null,
   "metadata": {},
   "outputs": [],
   "source": []
  }
 ],
 "metadata": {
  "kernelspec": {
   "display_name": "Python 3",
   "language": "python",
   "name": "python3"
  },
  "language_info": {
   "codemirror_mode": {
    "name": "ipython",
    "version": 3
   },
   "file_extension": ".py",
   "mimetype": "text/x-python",
   "name": "python",
   "nbconvert_exporter": "python",
   "pygments_lexer": "ipython3",
   "version": "3.7.3"
  }
 },
 "nbformat": 4,
 "nbformat_minor": 2
}
