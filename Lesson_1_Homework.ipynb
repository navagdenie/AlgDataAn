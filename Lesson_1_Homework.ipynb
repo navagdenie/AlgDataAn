{
 "cells": [
  {
   "cell_type": "markdown",
   "metadata": {},
   "source": [
    "# Урок 1. Алгоритм линейной регрессии. Градиентный спуск"
   ]
  },
  {
   "cell_type": "code",
   "execution_count": 1,
   "metadata": {},
   "outputs": [],
   "source": [
    "import numpy as np"
   ]
  },
  {
   "cell_type": "code",
   "execution_count": 2,
   "metadata": {},
   "outputs": [
    {
     "data": {
      "text/plain": [
       "array([[ 1,  1,  1,  1,  1,  1,  1,  1,  1,  1],\n",
       "       [ 1,  1,  2,  5,  3,  0,  5, 10,  1,  2]])"
      ]
     },
     "execution_count": 2,
     "metadata": {},
     "output_type": "execute_result"
    }
   ],
   "source": [
    "X = np.array([[1, 1, 1, 1, 1, 1, 1, 1, 1, 1],\n",
    "              [1, 1, 2, 5, 3, 0, 5, 10, 1, 2]])\n",
    "X"
   ]
  },
  {
   "cell_type": "code",
   "execution_count": 3,
   "metadata": {},
   "outputs": [],
   "source": [
    "y = [45, 55, 50, 55, 60, 35, 75, 80, 50, 60]"
   ]
  },
  {
   "cell_type": "code",
   "execution_count": 4,
   "metadata": {},
   "outputs": [],
   "source": [
    "def calc_mse(y, y_pred):\n",
    "    err = np.mean((y - y_pred)**2) # <=> 1/n * np.sum((y_pred - y)**2)\n",
    "    return err"
   ]
  },
  {
   "cell_type": "markdown",
   "metadata": {},
   "source": [
    "### Подберите скорость обучения (alpha) и количество итераций"
   ]
  },
  {
   "cell_type": "code",
   "execution_count": 5,
   "metadata": {},
   "outputs": [
    {
     "name": "stdout",
     "output_type": "stream",
     "text": [
      "Number of objects = 10        \n",
      "Learning rate = 1.0        \n",
      "Initial weights = [1.  0.5] \n",
      "\n",
      "Iteration #0: W_new = [109.  377.5], MSE = 3047.75\n",
      "Iteration #100: W_new = [4.94618149e+123 2.72765484e+124], MSE = 4.9258037423145105e+247\n",
      "Iteration #200: W_new = [2.07249920e+115 1.14291451e+116], MSE = 3.4814688960177844e+233\n",
      "Iteration #300: W_new = [1.89837205e+115 1.04688917e+116], MSE = 1.9894965439541664e+233\n",
      "Iteration #400: W_new = [1.89781705e+115 1.04658310e+116], MSE = 1.9848582290705727e+233\n",
      "Iteration #500: W_new = [1.89781566e+115 1.04658234e+116], MSE = 1.9848437488082932e+233\n",
      "Iteration #600: W_new = [1.89781566e+115 1.04658233e+116], MSE = 1.984843714044253e+233\n",
      "Iteration #700: W_new = [1.89781566e+115 1.04658233e+116], MSE = 1.9848437139766249e+233\n",
      "Iteration #800: W_new = [1.89781566e+115 1.04658233e+116], MSE = 1.9848437139765282e+233\n",
      "Iteration #900: W_new = [1.89781566e+115 1.04658233e+116], MSE = 1.9848437139765282e+233\n"
     ]
    }
   ],
   "source": [
    "n = X.shape[1]\n",
    "#alpha = 1e-2\n",
    "alpha = 1e-0\n",
    "W = np.array([1, 0.5])\n",
    "print(f'Number of objects = {n} \\\n",
    "       \\nLearning rate = {alpha} \\\n",
    "       \\nInitial weights = {W} \\n')\n",
    "\n",
    "for i in range(1000): #в принципе можно сократить до 500, оставила 1000 только чтобы былов видно что дальше MSE не уменьшается\n",
    "    y_pred = np.dot(W, X)\n",
    "    err = calc_mse(y, y_pred)\n",
    "    for k in range(W.shape[0]):\n",
    "        W[k] -= alpha * (1/n * 2 * np.sum(X[k] * (y_pred - y)))\n",
    "    if i % 100 == 0:\n",
    "        #alpha /= 1.1\n",
    "        alpha /= i if i!=0 else 2\n",
    "        print(f'Iteration #{i}: W_new = {W}, MSE = {round(err,2)}')"
   ]
  },
  {
   "cell_type": "markdown",
   "metadata": {},
   "source": [
    "### *2. В этом коде мы избавляемся от итераций по весам, но тут есть ошибка, исправьте ее"
   ]
  },
  {
   "cell_type": "code",
   "execution_count": 6,
   "metadata": {},
   "outputs": [
    {
     "name": "stdout",
     "output_type": "stream",
     "text": [
      "Number of objects = 10        \n",
      "Learning rate = 1.0        \n",
      "Initial weights = [1.  0.5] \n",
      "\n",
      "Iteration #0: W_new = [109.  377.5], MSE = 3047.75\n",
      "Iteration #100: W_new = [4.94618149e+123 2.72765484e+124], MSE = 4.9258037423145105e+247\n",
      "Iteration #200: W_new = [2.07249916e+115 1.14291451e+116], MSE = 3.481468896017794e+233\n",
      "Iteration #300: W_new = [1.89837201e+115 1.04688917e+116], MSE = 1.9894965439541735e+233\n",
      "Iteration #400: W_new = [1.89781701e+115 1.04658310e+116], MSE = 1.9848582290705773e+233\n",
      "Iteration #500: W_new = [1.89781562e+115 1.04658234e+116], MSE = 1.984843748808297e+233\n",
      "Iteration #600: W_new = [1.89781562e+115 1.04658233e+116], MSE = 1.984843714044257e+233\n",
      "Iteration #700: W_new = [1.89781562e+115 1.04658233e+116], MSE = 1.9848437139766284e+233\n",
      "Iteration #800: W_new = [1.89781562e+115 1.04658233e+116], MSE = 1.9848437139765315e+233\n",
      "Iteration #900: W_new = [1.89781562e+115 1.04658233e+116], MSE = 1.9848437139765315e+233\n"
     ]
    }
   ],
   "source": [
    "X_ = X.T\n",
    "n = X_.T.shape[1]\n",
    "alpha = 1e-0\n",
    "W = np.array([1, 0.5])\n",
    "print(f'Number of objects = {n} \\\n",
    "       \\nLearning rate = {alpha} \\\n",
    "       \\nInitial weights = {W} \\n')\n",
    "\n",
    "for i in range(1000):\n",
    "    y_pred = np.dot(X_, W)\n",
    "    err = calc_mse(y, y_pred)\n",
    "    W_pred = W - alpha * 1/n * 2 * np.dot(X_.T, (y_pred - y))\n",
    "    W = W_pred\n",
    "    if i % 100 == 0:\n",
    "        alpha /= i if i!=0 else 2\n",
    "        print(f'Iteration #{i}: W_new = {W}, MSE = {round(err,2)}')"
   ]
  },
  {
   "cell_type": "code",
   "execution_count": null,
   "metadata": {},
   "outputs": [],
   "source": []
  }
 ],
 "metadata": {
  "kernelspec": {
   "display_name": "Python 3",
   "language": "python",
   "name": "python3"
  },
  "language_info": {
   "codemirror_mode": {
    "name": "ipython",
    "version": 3
   },
   "file_extension": ".py",
   "mimetype": "text/x-python",
   "name": "python",
   "nbconvert_exporter": "python",
   "pygments_lexer": "ipython3",
   "version": "3.7.3"
  }
 },
 "nbformat": 4,
 "nbformat_minor": 2
}
