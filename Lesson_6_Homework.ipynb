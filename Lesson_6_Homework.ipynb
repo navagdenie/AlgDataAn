{
 "cells": [
  {
   "cell_type": "markdown",
   "metadata": {},
   "source": [
    "# Урок 6. Градиентный бустинг. AdaBoost."
   ]
  },
  {
   "cell_type": "markdown",
   "metadata": {},
   "source": [
    "### 1. Для реализованной модели градиентного бустинга построить графики зависимости ошибки от количества деревьев в ансамбле и от максимальной глубины деревьев. Сделать выводы о зависимости ошибки от этих параметров. "
   ]
  },
  {
   "cell_type": "code",
   "execution_count": 1,
   "metadata": {},
   "outputs": [],
   "source": [
    "from sklearn.tree import DecisionTreeRegressor\n",
    "\n",
    "from sklearn import model_selection\n",
    "import numpy as np\n",
    "import random\n",
    "import matplotlib.pyplot as plt\n",
    "import matplotlib\n",
    "%matplotlib inline"
   ]
  },
  {
   "cell_type": "code",
   "execution_count": 2,
   "metadata": {},
   "outputs": [],
   "source": [
    "from sklearn.datasets import load_diabetes"
   ]
  },
  {
   "cell_type": "code",
   "execution_count": 3,
   "metadata": {},
   "outputs": [],
   "source": [
    "X, y = load_diabetes(return_X_y=True)"
   ]
  },
  {
   "cell_type": "code",
   "execution_count": 4,
   "metadata": {},
   "outputs": [],
   "source": [
    "X_train, X_test, y_train, y_test = model_selection.train_test_split(X, y, test_size=0.25)"
   ]
  },
  {
   "cell_type": "code",
   "execution_count": 5,
   "metadata": {},
   "outputs": [],
   "source": [
    "def gb_predict(X, trees_list, coef_list, eta):\n",
    "    # Реализуемый алгоритм градиентного бустинга будет инициализироваться нулевыми значениями,\n",
    "    # поэтому все деревья из списка trees_list уже являются дополнительными и при предсказании прибавляются с шагом eta\n",
    "    return np.array([sum([eta* coef * alg.predict([x])[0] for alg, coef in zip(trees_list, coef_list)]) for x in X])"
   ]
  },
  {
   "cell_type": "code",
   "execution_count": 6,
   "metadata": {},
   "outputs": [],
   "source": [
    "def mean_squared_error(y_real, prediction):\n",
    "    return (sum((y_real - prediction)**2)) / len(y_real)"
   ]
  },
  {
   "cell_type": "code",
   "execution_count": 7,
   "metadata": {},
   "outputs": [],
   "source": [
    "def bias(y, z):\n",
    "    return (y - z)"
   ]
  },
  {
   "cell_type": "code",
   "execution_count": 8,
   "metadata": {},
   "outputs": [],
   "source": [
    "def gb_fit(n_trees, max_depth, X_train, X_test, y_train, y_test, coefs, eta):\n",
    "    \n",
    "    # Деревья будем записывать в список\n",
    "    trees = []\n",
    "    \n",
    "    # Будем записывать ошибки на обучающей и тестовой выборке на каждой итерации в список\n",
    "    train_errors = []\n",
    "    test_errors = []\n",
    "    \n",
    "    for i in range(n_trees):\n",
    "        tree = DecisionTreeRegressor(max_depth=max_depth, random_state=42)\n",
    "\n",
    "        # инициализируем бустинг начальным алгоритмом, возвращающим ноль, \n",
    "        # поэтому первый алгоритм просто обучаем на выборке и добавляем в список\n",
    "        if len(trees) == 0:\n",
    "            # обучаем первое дерево на обучающей выборке\n",
    "            tree.fit(X_train, y_train)\n",
    "            \n",
    "            train_errors.append(mean_squared_error(y_train, gb_predict(X_train, trees, coefs, eta)))\n",
    "            test_errors.append(mean_squared_error(y_test, gb_predict(X_test, trees, coefs, eta)))\n",
    "        else:\n",
    "            # Получим ответы на текущей композиции\n",
    "            target = gb_predict(X_train, trees, coefs, eta)\n",
    "            \n",
    "            # алгоритмы начиная со второго обучаем на сдвиг\n",
    "            tree.fit(X_train, bias(y_train, target))\n",
    "            \n",
    "            train_errors.append(mean_squared_error(y_train, gb_predict(X_train, trees, coefs, eta)))\n",
    "            test_errors.append(mean_squared_error(y_test, gb_predict(X_test, trees, coefs, eta)))\n",
    "\n",
    "        trees.append(tree)\n",
    "        \n",
    "    return trees, train_errors, test_errors"
   ]
  },
  {
   "cell_type": "code",
   "execution_count": 9,
   "metadata": {},
   "outputs": [],
   "source": [
    "def evaluate_alg(X_train, X_test, y_train, y_test, trees, coefs, eta):\n",
    "    train_prediction = gb_predict(X_train, trees, coefs, eta)\n",
    "\n",
    "    print(f'Ошибка алгоритма из {n_trees} деревьев глубиной {max_depth} \\\n",
    "    с шагом {eta} на тренировочной выборке: {mean_squared_error(y_train, train_prediction)}')\n",
    "\n",
    "    test_prediction = gb_predict(X_test, trees, coefs, eta)\n",
    "\n",
    "    print(f'Ошибка алгоритма из {n_trees} деревьев глубиной {max_depth} \\\n",
    "    с шагом {eta} на тестовой выборке: {mean_squared_error(y_test, test_prediction)}')"
   ]
  },
  {
   "cell_type": "code",
   "execution_count": 10,
   "metadata": {},
   "outputs": [],
   "source": [
    "def get_error_plot(n_trees, train_err, test_err):\n",
    "    plt.xlabel('Iteration number')\n",
    "    plt.ylabel('MSE')\n",
    "    plt.xlim(0, n_trees+1)\n",
    "    plt.plot(list(range(1, n_trees+1)), train_err, label='train error')\n",
    "    plt.plot(list(range(1, n_trees+1)), test_err, label='test error')\n",
    "    plt.legend(loc='upper right')\n",
    "    plt.show()"
   ]
  },
  {
   "cell_type": "code",
   "execution_count": 11,
   "metadata": {},
   "outputs": [
    {
     "name": "stdout",
     "output_type": "stream",
     "text": [
      "Ошибка алгоритма из 1 деревьев глубиной 3     с шагом 1 на тренировочной выборке: 2800.2227024543686\n",
      "Ошибка алгоритма из 1 деревьев глубиной 3     с шагом 1 на тестовой выборке: 3970.030735303437\n",
      "Ошибка алгоритма из 2 деревьев глубиной 3     с шагом 1 на тренировочной выборке: 2467.7832654606864\n",
      "Ошибка алгоритма из 2 деревьев глубиной 3     с шагом 1 на тестовой выборке: 4006.6595706163916\n",
      "Ошибка алгоритма из 3 деревьев глубиной 3     с шагом 1 на тренировочной выборке: 2087.17295288895\n",
      "Ошибка алгоритма из 3 деревьев глубиной 3     с шагом 1 на тестовой выборке: 3921.873019660821\n",
      "Ошибка алгоритма из 4 деревьев глубиной 3     с шагом 1 на тренировочной выборке: 1754.3398099585818\n",
      "Ошибка алгоритма из 4 деревьев глубиной 3     с шагом 1 на тестовой выборке: 4059.764399393639\n",
      "Ошибка алгоритма из 5 деревьев глубиной 3     с шагом 1 на тренировочной выборке: 1625.5658352671394\n",
      "Ошибка алгоритма из 5 деревьев глубиной 3     с шагом 1 на тестовой выборке: 4066.8656834830863\n",
      "Ошибка алгоритма из 6 деревьев глубиной 3     с шагом 1 на тренировочной выборке: 1460.225697838049\n",
      "Ошибка алгоритма из 6 деревьев глубиной 3     с шагом 1 на тестовой выборке: 4296.821212769464\n",
      "Ошибка алгоритма из 7 деревьев глубиной 3     с шагом 1 на тренировочной выборке: 1299.3254338125573\n",
      "Ошибка алгоритма из 7 деревьев глубиной 3     с шагом 1 на тестовой выборке: 4508.651162961047\n",
      "Ошибка алгоритма из 8 деревьев глубиной 3     с шагом 1 на тренировочной выборке: 1219.183446988882\n",
      "Ошибка алгоритма из 8 деревьев глубиной 3     с шагом 1 на тестовой выборке: 4358.8148933386265\n",
      "Ошибка алгоритма из 9 деревьев глубиной 3     с шагом 1 на тренировочной выборке: 1125.8413043098924\n",
      "Ошибка алгоритма из 9 деревьев глубиной 3     с шагом 1 на тестовой выборке: 4432.420100596071\n",
      "Ошибка алгоритма из 10 деревьев глубиной 3     с шагом 1 на тренировочной выборке: 1021.4608177253513\n",
      "Ошибка алгоритма из 10 деревьев глубиной 3     с шагом 1 на тестовой выборке: 4358.613094454919\n"
     ]
    },
    {
     "data": {
      "image/png": "[encoded data removed]",
      "text/plain": [
       "<Figure size 432x288 with 1 Axes>"
      ]
     },
     "metadata": {
      "needs_background": "light"
     },
     "output_type": "display_data"
    }
   ],
   "source": [
    "trees_max = 10\n",
    "train_error = []\n",
    "test_error = []\n",
    "for n_trees in range(1, trees_max+1):\n",
    "    coefs = [1] * n_trees\n",
    "    max_depth = 3\n",
    "    eta = 1\n",
    "    \n",
    "    trees, train_errors, test_errors = gb_fit(n_trees, max_depth, X_train, X_test, y_train, y_test, coefs, eta)\n",
    "    evaluate_alg(X_train, X_test, y_train, y_test, trees, coefs, eta)\n",
    "    train_error.append(train_errors[-1])\n",
    "    test_error.append(test_errors[-1])\n",
    "    \n",
    "get_error_plot(trees_max, train_error, test_error)   "
   ]
  },
  {
   "cell_type": "code",
   "execution_count": 12,
   "metadata": {},
   "outputs": [
    {
     "name": "stdout",
     "output_type": "stream",
     "text": [
      "Ошибка алгоритма из 3 деревьев глубиной 1     с шагом 1 на тренировочной выборке: 3170.62467336104\n",
      "Ошибка алгоритма из 3 деревьев глубиной 1     с шагом 1 на тестовой выборке: 3694.8077876345183\n",
      "Ошибка алгоритма из 3 деревьев глубиной 2     с шагом 1 на тренировочной выборке: 2777.406910897821\n",
      "Ошибка алгоритма из 3 деревьев глубиной 2     с шагом 1 на тестовой выборке: 3810.670194003019\n",
      "Ошибка алгоритма из 3 деревьев глубиной 3     с шагом 1 на тренировочной выборке: 2087.17295288895\n",
      "Ошибка алгоритма из 3 деревьев глубиной 3     с шагом 1 на тестовой выборке: 3921.873019660821\n",
      "Ошибка алгоритма из 3 деревьев глубиной 4     с шагом 1 на тренировочной выборке: 1589.8001825109695\n",
      "Ошибка алгоритма из 3 деревьев глубиной 4     с шагом 1 на тестовой выборке: 3818.796954991744\n",
      "Ошибка алгоритма из 3 деревьев глубиной 5     с шагом 1 на тренировочной выборке: 706.2707952510889\n",
      "Ошибка алгоритма из 3 деревьев глубиной 5     с шагом 1 на тестовой выборке: 6079.705024785363\n",
      "Ошибка алгоритма из 3 деревьев глубиной 6     с шагом 1 на тренировочной выборке: 585.3000579817444\n",
      "Ошибка алгоритма из 3 деревьев глубиной 6     с шагом 1 на тестовой выборке: 6442.034268819742\n",
      "Ошибка алгоритма из 3 деревьев глубиной 7     с шагом 1 на тренировочной выборке: 207.2928755280677\n",
      "Ошибка алгоритма из 3 деревьев глубиной 7     с шагом 1 на тестовой выборке: 5461.557646978948\n",
      "Ошибка алгоритма из 3 деревьев глубиной 8     с шагом 1 на тренировочной выборке: 85.1989466072089\n",
      "Ошибка алгоритма из 3 деревьев глубиной 8     с шагом 1 на тестовой выборке: 5839.332115667624\n",
      "Ошибка алгоритма из 3 деревьев глубиной 9     с шагом 1 на тренировочной выборке: 38.42214683633621\n",
      "Ошибка алгоритма из 3 деревьев глубиной 9     с шагом 1 на тестовой выборке: 5906.606454565881\n",
      "Ошибка алгоритма из 3 деревьев глубиной 10     с шагом 1 на тренировочной выборке: 0.6426585600372351\n",
      "Ошибка алгоритма из 3 деревьев глубиной 10     с шагом 1 на тестовой выборке: 6136.891573389329\n"
     ]
    },
    {
     "data": {
      "image/png": "[encoded data removed]",
      "text/plain": [
       "<Figure size 432x288 with 1 Axes>"
      ]
     },
     "metadata": {
      "needs_background": "light"
     },
     "output_type": "display_data"
    }
   ],
   "source": [
    "max_depth = 10\n",
    "n_trees = 3\n",
    "train_error = []\n",
    "test_error = []\n",
    "for max_depth in range(1, max_depth+1):\n",
    "    coefs = [1] * n_trees\n",
    "    eta = 1\n",
    "    \n",
    "    trees, train_errors, test_errors = gb_fit(n_trees, max_depth, X_train, X_test, y_train, y_test, coefs, eta)\n",
    "    evaluate_alg(X_train, X_test, y_train, y_test, trees, coefs, eta)\n",
    "    train_error.append(train_errors[-1])\n",
    "    test_error.append(test_errors[-1])\n",
    "    \n",
    "get_error_plot(trees_max, train_error, test_error)  "
   ]
  },
  {
   "cell_type": "markdown",
   "metadata": {},
   "source": [
    "На графиках видно, что MSE резко падает при увеличении количества деревьев с 1 до 2, а дальше меняется мало. При увелицении же глубины деревьев модель сильно переобучается, особенно при увеличении глубины более 5.  "
   ]
  },
  {
   "cell_type": "markdown",
   "metadata": {},
   "source": [
    "### 2*. Модифицировать реализованный алгоритм, чтобы получился стохастический градиентный бустинг. Размер подвыборки принять равным 0.5. Сравнить на одном графике кривые изменения ошибки на тестовой выборке в зависимости от числа итераций."
   ]
  },
  {
   "cell_type": "code",
   "execution_count": 13,
   "metadata": {},
   "outputs": [],
   "source": [
    "def gb_fit_st(n_trees, max_depth, X_train, X_test, y_train, y_test, coefs, eta, N):\n",
    "    \n",
    "    # Деревья будем записывать в список\n",
    "    trees = []\n",
    "    \n",
    "    # Будем записывать ошибки на обучающей и тестовой выборке на каждой итерации в список\n",
    "    train_errors = []\n",
    "    test_errors = []\n",
    "    \n",
    "    for i in range(n_trees):\n",
    "        tree = DecisionTreeRegressor(max_depth=max_depth, random_state=42)\n",
    "        \n",
    "        x_data = []\n",
    "        y_labels = []\n",
    "        \n",
    "        for j in range(N):\n",
    "            sample_index = random.randint(0, N-1)\n",
    "            x_data.append(X_train[sample_index])\n",
    "            y_labels.append(y_train[sample_index])\n",
    "        \n",
    "        # инициализируем бустинг начальным алгоритмом, возвращающим ноль, \n",
    "        # поэтому первый алгоритм просто обучаем на выборке и добавляем в список\n",
    "        if len(trees) == 0:\n",
    "            # обучаем первое дерево на обучающей выборке\n",
    "            tree.fit(x_data, y_labels)\n",
    "            \n",
    "            train_errors.append(mean_squared_error(y_labels, gb_predict(x_data, trees, coefs, eta)))\n",
    "            test_errors.append(mean_squared_error(y_test, gb_predict(X_test, trees, coefs, eta)))\n",
    "        else:\n",
    "            # Получим ответы на текущей композиции\n",
    "            target = gb_predict(x_data, trees, coefs, eta)\n",
    "            \n",
    "            # алгоритмы начиная со второго обучаем на сдвиг\n",
    "            tree.fit(x_data, bias(y_labels, target))\n",
    "            \n",
    "            train_errors.append(mean_squared_error(y_labels, gb_predict(x_data, trees, coefs, eta)))\n",
    "            test_errors.append(mean_squared_error(y_test, gb_predict(X_test, trees, coefs, eta)))\n",
    "\n",
    "        trees.append(tree)\n",
    "        \n",
    "    return trees, train_errors, test_errors"
   ]
  },
  {
   "cell_type": "code",
   "execution_count": 14,
   "metadata": {},
   "outputs": [],
   "source": [
    "# Число деревьев в ансамбле\n",
    "n_trees = 10\n",
    "\n",
    "# для простоты примем коэффициенты равными 1\n",
    "coefs = [1] * n_trees\n",
    "\n",
    "# Максимальная глубина деревьев\n",
    "max_depth = 3\n",
    "\n",
    "# Шагa\n",
    "eta = 1\n",
    "\n",
    "#Число записей подвыборки\n",
    "N = int(X_train.shape[0]*0.5)\n",
    "\n",
    "trees, train_errors, test_errors = gb_fit_st(n_trees, max_depth, X_train, X_test, y_train, y_test, coefs, eta, N)"
   ]
  },
  {
   "cell_type": "code",
   "execution_count": 15,
   "metadata": {},
   "outputs": [
    {
     "name": "stdout",
     "output_type": "stream",
     "text": [
      "Ошибка алгоритма из 10 деревьев глубиной 3     с шагом 1 на тренировочной выборке: 4517.6474673857\n",
      "Ошибка алгоритма из 10 деревьев глубиной 3     с шагом 1 на тестовой выборке: 9040.13164853243\n"
     ]
    }
   ],
   "source": [
    "evaluate_alg(X_train, X_test, y_train, y_test, trees, coefs, eta)"
   ]
  },
  {
   "cell_type": "code",
   "execution_count": 16,
   "metadata": {},
   "outputs": [],
   "source": [
    "def get_error_plot(n_trees, train_err, test_err):\n",
    "    plt.xlabel('Iteration number')\n",
    "    plt.ylabel('MSE')\n",
    "    plt.xlim(0, n_trees)\n",
    "    plt.plot(list(range(n_trees)), train_err, label='train error')\n",
    "    plt.plot(list(range(n_trees)), test_err, label='test error')\n",
    "    plt.legend(loc='upper right')\n",
    "    plt.show()"
   ]
  },
  {
   "cell_type": "code",
   "execution_count": 17,
   "metadata": {},
   "outputs": [
    {
     "data": {
      "image/png": "[encoded data removed]",
      "text/plain": [
       "<Figure size 432x288 with 1 Axes>"
      ]
     },
     "metadata": {
      "needs_background": "light"
     },
     "output_type": "display_data"
    }
   ],
   "source": [
    "get_error_plot(n_trees, train_errors, test_errors)"
   ]
  },
  {
   "cell_type": "code",
   "execution_count": null,
   "metadata": {},
   "outputs": [],
   "source": []
  }
 ],
 "metadata": {
  "kernelspec": {
   "display_name": "Python 3",
   "language": "python",
   "name": "python3"
  },
  "language_info": {
   "codemirror_mode": {
    "name": "ipython",
    "version": 3
   },
   "file_extension": ".py",
   "mimetype": "text/x-python",
   "name": "python",
   "nbconvert_exporter": "python",
   "pygments_lexer": "ipython3",
   "version": "3.7.3"
  }
 },
 "nbformat": 4,
 "nbformat_minor": 2
}
